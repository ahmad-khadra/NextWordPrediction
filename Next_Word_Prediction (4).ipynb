{
  "nbformat": 4,
  "nbformat_minor": 0,
  "metadata": {
    "colab": {
      "provenance": [],
      "gpuType": "T4"
    },
    "kernelspec": {
      "name": "python3",
      "display_name": "Python 3"
    },
    "language_info": {
      "name": "python"
    },
    "accelerator": "GPU"
  },
  "cells": [
    {
      "cell_type": "code",
      "source": [
        "import numpy as np\n",
        "import tensorflow as tf\n",
        "from tensorflow.keras.preprocessing.text import Tokenizer\n",
        "from tensorflow.keras.preprocessing.sequence import pad_sequences\n",
        "from tensorflow.keras.models import Sequential, load_model\n",
        "from tensorflow.keras.layers import Embedding, LSTM, Dense\n",
        "\n",
        "# Reading corpus the text file\n",
        "with open(\"/content/dataset_book.txt\", 'r', encoding='utf-8-sig') as myfile:\n",
        "    mytext = myfile.read()"
      ],
      "metadata": {
        "id": "x8nOcpSqE6jx"
      },
      "execution_count": null,
      "outputs": []
    },
    {
      "cell_type": "code",
      "source": [
        "def expand_contractions(text, model='contractions'):\n",
        "    \"\"\"\n",
        "    Expands contractions in a given text.\n",
        "\n",
        "    Parameters\n",
        "    ----------\n",
        "    text : str\n",
        "        The text to expand contractions in.\n",
        "    model : str\n",
        "        The model to use to expand contractions. Defaults to 'contractions'.\n",
        "        Options:\n",
        "            'contractions' - uses the contractions library\n",
        "            'pycontractions' - uses the pycontractions library. Greater accuracy as it looks at the context of the word. Has frequent dependency issues.\n",
        "\n",
        "    Returns\n",
        "    -------\n",
        "    str\n",
        "        The text with contractions expanded.\n",
        "    \"\"\"\n",
        "\n",
        "    try:\n",
        "        if model == 'contractions':\n",
        "            import contractions\n",
        "            text = contractions.fix(text)\n",
        "            return text\n",
        "\n",
        "        elif model == 'pycontractions':\n",
        "            import pycontractions\n",
        "\n",
        "            # Load the contraction model\n",
        "            cont = pycontractions.Contractions(api_key=\"glove-twitter-100\")\n",
        "            cont.load_models()\n",
        "\n",
        "            # Expand contractions in the text\n",
        "            expanded_text = list(cont.expand_texts([text], precise=True))[0]\n",
        "            return expanded_text\n",
        "        else:\n",
        "            raise Exception(\n",
        "                f\"Model '{model}' is not supported. Please choose either 'contractions' or 'pycontractions'.\")\n",
        "    except Exception as e:\n",
        "        print(f\"Error expanding contractions: {e}\")"
      ],
      "metadata": {
        "id": "_LxhCwe7gRQM"
      },
      "execution_count": null,
      "outputs": []
    },
    {
      "cell_type": "code",
      "source": [
        "def remove_punctuation_and_numbers(text):\n",
        "    \"\"\"Removes punctuation and numbers from a given text.\n",
        "\n",
        "    Parameters\n",
        "    ----------\n",
        "    text : str\n",
        "        The text to remove punctuation and numbers from.\n",
        "\n",
        "    Returns\n",
        "    -------\n",
        "    str\n",
        "        The text with punctuation and numbers removed.\n",
        "    \"\"\"\n",
        "\n",
        "    text = ''.join([char for char in text if char.isalpha() or char == ' '])\n",
        "    return text\n"
      ],
      "metadata": {
        "id": "oUi1NhSMccDs"
      },
      "execution_count": null,
      "outputs": []
    },
    {
      "cell_type": "code",
      "source": [
        "def lowercase_and_strip_whitespaces(text):\n",
        "    \"\"\"Converts a given text to lowercase and strips multiple whitespaces to a single whitespace.\n",
        "\n",
        "    Parameters\n",
        "    ----------\n",
        "    text : str\n",
        "        The text to convert.\n",
        "\n",
        "    Returns\n",
        "    -------\n",
        "    str\n",
        "        The converted text with multiple whitespaces stripped to a single whitespace and converted to lowercase.\n",
        "    \"\"\"\n",
        "    # strip multiple whitespaces\n",
        "    text = ' '.join(text.split())\n",
        "\n",
        "    # convert to lower case\n",
        "    text = text.lower()\n",
        "\n",
        "    return text"
      ],
      "metadata": {
        "id": "A25xvaFtfTI-"
      },
      "execution_count": null,
      "outputs": []
    },
    {
      "cell_type": "code",
      "source": [
        "from posixpath import split\n",
        "\n",
        "def preprocessing(mytext):\n",
        "  m = mytext.split('\\n\\n')\n",
        "  for i, s in enumerate(m):\n",
        "    m[i] = s.replace('\\n', '')\n",
        "    m[i] = m[i].replace(u'\\xa0',u' ')\n",
        "    m[i] = m[i].replace('\\u200a',' ')\n",
        "    m[i] = ' '.join(m[i].split())\n",
        "    m[i] = expand_contractions(m[i])\n",
        "    m[i] = remove_punctuation_and_numbers(m[i])\n",
        "    m[i] = lowercase_and_strip_whitespaces(m[i])\n",
        "\n",
        "  m = [sentence for sentence in m if sentence.strip() != \"\"]\n",
        "  m = m[:1000]\n",
        "  mytokenizer = Tokenizer()\n",
        "  mytokenizer.fit_on_texts(m)\n",
        "  word_index = mytokenizer.word_index\n",
        "  total_words = len(mytokenizer.word_index) + 1\n",
        "\n",
        "  my_input_sequences = []\n",
        "  for line in m:\n",
        "    #print(line)\n",
        "    token_list = mytokenizer.texts_to_sequences([line])[0]\n",
        "    # print(token_list)\n",
        "    for i in range(1, len(token_list)):\n",
        "        my_n_gram_sequence = token_list[:i+1]\n",
        "        # print(my_n_gram_sequence)\n",
        "        my_input_sequences.append(my_n_gram_sequence)\n",
        "        #print(input_sequences)\n",
        "\n",
        "  max_sequence_len = max([len(seq) for seq in my_input_sequences])\n",
        "  input_sequences = np.array(pad_sequences(my_input_sequences, maxlen=max_sequence_len, padding='pre'))\n",
        "  X = input_sequences[:, :-1]\n",
        "  Y = input_sequences[:, -1]\n",
        "  Y = np.array(tf.keras.utils.to_categorical(Y, num_classes=total_words))\n",
        "\n",
        "  from sklearn.model_selection import train_test_split\n",
        "\n",
        "\n",
        "  X_train, X_test, y_train, y_test = train_test_split(\n",
        "      X, Y, test_size=0.1, random_state=56, shuffle=True)\n",
        "  return m, X_train, X_test, y_train, y_test, total_words, max_sequence_len, word_index, mytokenizer"
      ],
      "metadata": {
        "id": "PSCV_wtJIQNu"
      },
      "execution_count": null,
      "outputs": []
    },
    {
      "cell_type": "code",
      "source": [
        "m, X_train, X_test, y_train, y_test, total_words, max_sequence_len, word_index, mytokenizer = preprocessing(mytext)"
      ],
      "metadata": {
        "id": "1d8DekdaJsSU"
      },
      "execution_count": null,
      "outputs": []
    },
    {
      "cell_type": "code",
      "source": [
        "X_train"
      ],
      "metadata": {
        "colab": {
          "base_uri": "https://localhost:8080/"
        },
        "id": "N4vV_qfC1TCM",
        "outputId": "76577844-1f3f-4b77-a003-7c63f638843d"
      },
      "execution_count": null,
      "outputs": [
        {
          "output_type": "execute_result",
          "data": {
            "text/plain": [
              "array([[   0,    0,    0, ...,   15,  220,  865],\n",
              "       [   0,    0,    0, ...,   19,    7,  940],\n",
              "       [   0,    0,    0, ...,    4, 3130,   16],\n",
              "       ...,\n",
              "       [   0,    0,    0, ..., 2664,    7,  146],\n",
              "       [   0,    0,    0, ...,    7,  745,   14],\n",
              "       [   0,    0,    0, ...,  281,    6,  229]], dtype=int32)"
            ]
          },
          "metadata": {},
          "execution_count": 28
        }
      ]
    },
    {
      "cell_type": "code",
      "source": [
        "X_train.shape"
      ],
      "metadata": {
        "colab": {
          "base_uri": "https://localhost:8080/"
        },
        "id": "mnFiTGtdAFUF",
        "outputId": "1153401f-d0f6-40fb-a80a-83210dd3d229"
      },
      "execution_count": null,
      "outputs": [
        {
          "output_type": "execute_result",
          "data": {
            "text/plain": [
              "(48454, 491)"
            ]
          },
          "metadata": {},
          "execution_count": 45
        }
      ]
    },
    {
      "cell_type": "code",
      "source": [
        "print(len(word_index) + 1)"
      ],
      "metadata": {
        "colab": {
          "base_uri": "https://localhost:8080/"
        },
        "id": "4lYpoJ1uJypP",
        "outputId": "defa63ec-6211-4c52-93ad-725d3b833d0a"
      },
      "execution_count": null,
      "outputs": [
        {
          "output_type": "stream",
          "name": "stdout",
          "text": [
            "4697\n"
          ]
        }
      ]
    },
    {
      "cell_type": "code",
      "source": [
        "model2 = Sequential()\n",
        "model2.add(Embedding(total_words, 100, input_length=max_sequence_len-1))\n",
        "model2.add(LSTM(150))\n",
        "model2.add(Dense(total_words, activation='softmax'))\n",
        "print(model2.summary())"
      ],
      "metadata": {
        "colab": {
          "base_uri": "https://localhost:8080/"
        },
        "id": "Ohxsqphqsfv9",
        "outputId": "c3bf63fc-0c1e-499c-b009-e331282ec394"
      },
      "execution_count": null,
      "outputs": [
        {
          "output_type": "stream",
          "name": "stdout",
          "text": [
            "Model: \"sequential\"\n",
            "_________________________________________________________________\n",
            " Layer (type)                Output Shape              Param #   \n",
            "=================================================================\n",
            " embedding (Embedding)       (None, 491, 100)          469700    \n",
            "                                                                 \n",
            " lstm (LSTM)                 (None, 150)               150600    \n",
            "                                                                 \n",
            " dense (Dense)               (None, 4697)              709247    \n",
            "                                                                 \n",
            "=================================================================\n",
            "Total params: 1329547 (5.07 MB)\n",
            "Trainable params: 1329547 (5.07 MB)\n",
            "Non-trainable params: 0 (0.00 Byte)\n",
            "_________________________________________________________________\n",
            "None\n"
          ]
        }
      ]
    },
    {
      "cell_type": "code",
      "source": [
        "from keras.callbacks import ModelCheckpoint\n",
        "checkpoint = ModelCheckpoint('model.h5', monitor='accuracy', save_best_only=False)\n",
        "\n",
        "optimizer = tf.keras.optimizers.Adam(learning_rate=0.001)\n",
        "model2.compile(loss='categorical_crossentropy', optimizer=optimizer, metrics=['accuracy'],)\n",
        "history = model2.fit(X_train, y_train, epochs=70, verbose=1, batch_size=32, callbacks=[checkpoint])"
      ],
      "metadata": {
        "id": "RKMYGWXPsyoa"
      },
      "execution_count": null,
      "outputs": []
    },
    {
      "cell_type": "code",
      "source": [
        "import matplotlib.pyplot as plt\n",
        "\n",
        "# plot training and validation loss\n",
        "plt.plot(history.history['loss'], label='train')\n",
        "\n",
        "plt.title('Training and validation loss')\n",
        "plt.ylabel('Loss')\n",
        "plt.xlabel('Epoch')\n",
        "plt.legend()\n",
        "plt.show()\n",
        "\n",
        "# plot training and validation accuracy\n",
        "plt.plot(history.history['accuracy'], label='train')\n",
        "\n",
        "plt.title('Training and validation accuracy')\n",
        "plt.ylabel('Accuracy')\n",
        "plt.xlabel('Epoch')\n",
        "plt.legend()\n",
        "plt.show()"
      ],
      "metadata": {
        "colab": {
          "base_uri": "https://localhost:8080/",
          "height": 927
        },
        "id": "cMEVyIJM-XGo",
        "outputId": "7a2f5d7b-7466-4512-e675-08499feacf90"
      },
      "execution_count": null,
      "outputs": [
        {
          "output_type": "display_data",
          "data": {
            "text/plain": [
              "<Figure size 640x480 with 1 Axes>"
            ],
            "image/png": "[encoded data removed]"
          },
          "metadata": {}
        },
        {
          "output_type": "display_data",
          "data": {
            "text/plain": [
              "<Figure size 640x480 with 1 Axes>"
            ],
            "image/png": "[encoded data removed]"
          },
          "metadata": {}
        }
      ]
    },
    {
      "cell_type": "code",
      "source": [
        "model1 = load_model('my_model.h5')"
      ],
      "metadata": {
        "id": "Ua7YTn9A3sTo"
      },
      "execution_count": null,
      "outputs": []
    },
    {
      "cell_type": "code",
      "source": [
        "import numpy as np\n",
        "from tensorflow.keras.preprocessing.sequence import pad_sequences\n",
        "\n",
        "input_text = \"possession\"\n",
        "top_words_out = []\n",
        "predict_next_words = 3  # Set to the number of top words you want to predict\n",
        "\n",
        "for _ in range(predict_next_words):\n",
        "    token_list = mytokenizer.texts_to_sequences([input_text])[0]\n",
        "    token_list = pad_sequences([token_list], maxlen=max_sequence_len-1, padding='pre')\n",
        "\n",
        "    predictions = model1.predict(token_list)[0]\n",
        "    # Get the indices of the top N words\n",
        "    top_indices = np.argpartition(predictions, -predict_next_words)[-predict_next_words:]\n",
        "\n",
        "    # Get the words corresponding to the top indices\n",
        "    top_words = [word for word, index in mytokenizer.word_index.items() if index in top_indices]\n",
        "    top_probabilities = predictions[top_indices]\n",
        "    print(top_probabilities)\n",
        "\n",
        "    # Choose one of the top words randomly or based on some other criteria\n",
        "    # output_word = np.random.choice(top_words)\n",
        "    top_words_out = top_words\n",
        "\n",
        "result = []\n",
        "for word in top_words_out:\n",
        "  result.append(str(word))\n",
        "\n",
        "print(input_text)\n",
        "print(result)\n"
      ],
      "metadata": {
        "colab": {
          "base_uri": "https://localhost:8080/"
        },
        "id": "FjrrmOXht60A",
        "outputId": "2f3d4a40-638a-4136-a5fb-cd7213c7af7e"
      },
      "execution_count": null,
      "outputs": [
        {
          "output_type": "stream",
          "name": "stdout",
          "text": [
            "1/1 [==============================] - 0s 86ms/step\n",
            "[0.00589708 0.00730192 0.9812572 ]\n",
            "1/1 [==============================] - 0s 86ms/step\n",
            "[0.00589708 0.00730192 0.9812572 ]\n",
            "1/1 [==============================] - 0s 91ms/step\n",
            "[0.00589708 0.00730192 0.9812572 ]\n",
            "possession\n",
            "['of', 'for', 'this']\n"
          ]
        }
      ]
    },
    {
      "cell_type": "code",
      "source": [
        "input_text = \"very\"\n",
        "predict_next_words= 20\n",
        "# _,_,_,_,_,_,_,_,_,_,mytokenizer = preprocessing(mytext)\n",
        "\n",
        "for _ in range(predict_next_words):\n",
        "    token_list = mytokenizer.texts_to_sequences([input_text])[0]\n",
        "    print(token_list)\n",
        "    token_list = pad_sequences([token_list], maxlen=max_sequence_len-1, padding='pre')\n",
        "    predicted = np.argmax(model1.predict(token_list), axis=-1)\n",
        "    output_word = \"\"\n",
        "    for word, index in mytokenizer.word_index.items():\n",
        "        if index == predicted:\n",
        "            output_word = word\n",
        "            break\n",
        "    input_text += \" \" + output_word\n",
        "\n",
        "print(input_text)"
      ],
      "metadata": {
        "colab": {
          "base_uri": "https://localhost:8080/"
        },
        "id": "gwonF6rjs1t-",
        "outputId": "43f4324d-d95e-46ba-e2ae-b2c20135b739"
      },
      "execution_count": null,
      "outputs": [
        {
          "output_type": "stream",
          "name": "stdout",
          "text": [
            "[32]\n",
            "1/1 [==============================] - 2s 2s/step\n",
            "[32, 84]\n",
            "1/1 [==============================] - 0s 212ms/step\n",
            "[32, 84, 80]\n",
            "1/1 [==============================] - 0s 133ms/step\n",
            "[32, 84, 80, 110]\n",
            "1/1 [==============================] - 0s 185ms/step\n",
            "[32, 84, 80, 110, 32]\n",
            "1/1 [==============================] - 0s 241ms/step\n",
            "[32, 84, 80, 110, 32, 148]\n",
            "1/1 [==============================] - 0s 152ms/step\n",
            "[32, 84, 80, 110, 32, 148, 10]\n",
            "1/1 [==============================] - 0s 159ms/step\n",
            "[32, 84, 80, 110, 32, 148, 10, 56]\n",
            "1/1 [==============================] - 0s 125ms/step\n",
            "[32, 84, 80, 110, 32, 148, 10, 56, 24]\n",
            "1/1 [==============================] - 0s 122ms/step\n",
            "[32, 84, 80, 110, 32, 148, 10, 56, 24, 1]\n",
            "1/1 [==============================] - 0s 162ms/step\n",
            "[32, 84, 80, 110, 32, 148, 10, 56, 24, 1, 176]\n",
            "1/1 [==============================] - 0s 168ms/step\n",
            "[32, 84, 80, 110, 32, 148, 10, 56, 24, 1, 176, 240]\n",
            "1/1 [==============================] - 0s 178ms/step\n",
            "[32, 84, 80, 110, 32, 148, 10, 56, 24, 1, 176, 240, 10]\n",
            "1/1 [==============================] - 0s 171ms/step\n",
            "[32, 84, 80, 110, 32, 148, 10, 56, 24, 1, 176, 240, 10, 23]\n",
            "1/1 [==============================] - 0s 121ms/step\n",
            "[32, 84, 80, 110, 32, 148, 10, 56, 24, 1, 176, 240, 10, 23, 6]\n",
            "1/1 [==============================] - 0s 89ms/step\n",
            "[32, 84, 80, 110, 32, 148, 10, 56, 24, 1, 176, 240, 10, 23, 6, 100]\n",
            "1/1 [==============================] - 0s 83ms/step\n",
            "[32, 84, 80, 110, 32, 148, 10, 56, 24, 1, 176, 240, 10, 23, 6, 100, 3]\n",
            "1/1 [==============================] - 0s 91ms/step\n",
            "[32, 84, 80, 110, 32, 148, 10, 56, 24, 1, 176, 240, 10, 23, 6, 100, 3, 163]\n",
            "1/1 [==============================] - 0s 91ms/step\n",
            "[32, 84, 80, 110, 32, 148, 10, 56, 24, 1, 176, 240, 10, 23, 6, 100, 3, 163, 71]\n",
            "1/1 [==============================] - 0s 89ms/step\n",
            "[32, 84, 80, 110, 32, 148, 10, 56, 24, 1, 176, 240, 10, 23, 6, 100, 3, 163, 71, 140]\n",
            "1/1 [==============================] - 0s 88ms/step\n",
            "very well we now very sure that bingley but the next ball that is a man of whom one cannot be\n"
          ]
        }
      ]
    }
  ]
}